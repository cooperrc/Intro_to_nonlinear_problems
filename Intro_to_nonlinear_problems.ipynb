{
 "cells": [
  {
   "cell_type": "code",
   "execution_count": 2,
   "metadata": {
    "collapsed": true,
    "slideshow": {
     "slide_type": "skip"
    }
   },
   "outputs": [],
   "source": [
    "%plot --format svg"
   ]
  },
  {
   "cell_type": "code",
   "execution_count": 3,
   "metadata": {
    "collapsed": true,
    "slideshow": {
     "slide_type": "skip"
    }
   },
   "outputs": [],
   "source": [
    "setdefaults"
   ]
  },
  {
   "cell_type": "markdown",
   "metadata": {
    "slideshow": {
     "slide_type": "slide"
    }
   },
   "source": [
    "# Paying off a car/house/boat/... with a loan"
   ]
  },
  {
   "cell_type": "markdown",
   "metadata": {
    "slideshow": {
     "slide_type": "fragment"
    }
   },
   "source": [
    "You take a loan of some amount P, and the lender says you can pay any monthly payment you want, but at the end of the loan time, T, you have to pay the difference left over. \n",
    "\n",
    "What monthly payment should you use so that you have $0 at the end of the loan time, T? with an interest rate of R?"
   ]
  },
  {
   "cell_type": "code",
   "execution_count": 25,
   "metadata": {
    "collapsed": false,
    "slideshow": {
     "slide_type": "slide"
    }
   },
   "outputs": [],
   "source": [
    "function amount_left = loan_payments(monthly_payment,price,apr,no_of_years,plot_bool)\n",
    "  % loan_payments(monthly_payment,price,apr,no_of_years) calculates the principal amount\n",
    "  % left over on a loan if \n",
    "  % the monthly payment is \"monthly_payment\"\n",
    "  % the price of the loan is \"price\"\n",
    "  % the annual percent rate of interest is \"apr\" (compounded monthly)\n",
    "  % and the number of years the loan is paid is \"no_of_years\"\n",
    "  % plot_bool=0,1 if the principle left should be plotted no,yes\n",
    "  interest_per_month = apr/12;\n",
    "  number_of_months = no_of_years*12;\n",
    "  principle=price;\n",
    "  P_vector=zeros(1,number_of_months);\n",
    "  for i = 1:number_of_months\n",
    "    principle=principle-monthly_payment;\n",
    "    principle=(1+interest_per_month)*principle;\n",
    "    P_vector(i)=principle;\n",
    "  end\n",
    "  amount_left=principle;\n",
    "  if plot_bool\n",
    "    figure(1)\n",
    "    plot([1:number_of_months]/12, P_vector,'o')\n",
    "    xlabel('time (years)')\n",
    "    ylabel('principle amount left ($)')\n",
    "  end\n",
    "end"
   ]
  },
  {
   "cell_type": "code",
   "execution_count": 10,
   "metadata": {
    "collapsed": false,
    "slideshow": {
     "slide_type": "slide"
    }
   },
   "outputs": [
    {
     "name": "stdout",
     "output_type": "stream",
     "text": [
      "-0.1438790871\r\n"
     ]
    },
    {
     "data": {
      "image/svg+xml": [
       "<svg height=\"420px\" viewBox=\"0 0 560 420\" width=\"560px\" xmlns=\"http://www.w3.org/2000/svg\" xmlns:xlink=\"http://www.w3.org/1999/xlink\">\n",
       "\n",
       "<title>Gnuplot</title>\n",
       "<desc>Produced by GNUPLOT 5.0 patchlevel 3 </desc>\n",
       "\n",
       "<g id=\"gnuplot_canvas\">\n",
       "\n",
       "<rect fill=\"none\" height=\"420\" width=\"560\" x=\"0\" y=\"0\"/>\n",
       "<defs>\n",
       "\n",
       "\t<circle id=\"gpDot\" r=\"0.5\" stroke-width=\"0.5\"/>\n",
       "\t<path d=\"M-1,0 h2 M0,-1 v2\" id=\"gpPt0\" stroke=\"currentColor\" stroke-width=\"0.222\"/>\n",
       "\t<path d=\"M-1,-1 L1,1 M1,-1 L-1,1\" id=\"gpPt1\" stroke=\"currentColor\" stroke-width=\"0.222\"/>\n",
       "\t<path d=\"M-1,0 L1,0 M0,-1 L0,1 M-1,-1 L1,1 M-1,1 L1,-1\" id=\"gpPt2\" stroke=\"currentColor\" stroke-width=\"0.222\"/>\n",
       "\t<rect height=\"2\" id=\"gpPt3\" stroke=\"currentColor\" stroke-width=\"0.222\" width=\"2\" x=\"-1\" y=\"-1\"/>\n",
       "\t<rect fill=\"currentColor\" height=\"2\" id=\"gpPt4\" stroke=\"currentColor\" stroke-width=\"0.222\" width=\"2\" x=\"-1\" y=\"-1\"/>\n",
       "\t<circle cx=\"0\" cy=\"0\" id=\"gpPt5\" r=\"1\" stroke=\"currentColor\" stroke-width=\"0.222\"/>\n",
       "\t<use fill=\"currentColor\" id=\"gpPt6\" stroke=\"none\" xlink:href=\"#gpPt5\"/>\n",
       "\t<path d=\"M0,-1.33 L-1.33,0.67 L1.33,0.67 z\" id=\"gpPt7\" stroke=\"currentColor\" stroke-width=\"0.222\"/>\n",
       "\t<use fill=\"currentColor\" id=\"gpPt8\" stroke=\"none\" xlink:href=\"#gpPt7\"/>\n",
       "\t<use id=\"gpPt9\" stroke=\"currentColor\" transform=\"rotate(180)\" xlink:href=\"#gpPt7\"/>\n",
       "\t<use fill=\"currentColor\" id=\"gpPt10\" stroke=\"none\" xlink:href=\"#gpPt9\"/>\n",
       "\t<use id=\"gpPt11\" stroke=\"currentColor\" transform=\"rotate(45)\" xlink:href=\"#gpPt3\"/>\n",
       "\t<use fill=\"currentColor\" id=\"gpPt12\" stroke=\"none\" xlink:href=\"#gpPt11\"/>\n",
       "\t<path d=\"M0,1.330 L1.265,0.411 L0.782,-1.067 L-0.782,-1.076 L-1.265,0.411 z\" id=\"gpPt13\" stroke=\"currentColor\" stroke-width=\"0.222\"/>\n",
       "\t<use fill=\"currentColor\" id=\"gpPt14\" stroke=\"none\" xlink:href=\"#gpPt13\"/>\n",
       "\t<filter filterUnits=\"objectBoundingBox\" height=\"1\" id=\"textbox\" width=\"1\" x=\"0\" y=\"0\">\n",
       "\t  <feFlood flood-color=\"white\" flood-opacity=\"1\" result=\"bgnd\"/>\n",
       "\t  <feComposite in=\"SourceGraphic\" in2=\"bgnd\" operator=\"atop\"/>\n",
       "\t</filter>\n",
       "\t<filter filterUnits=\"objectBoundingBox\" height=\"1\" id=\"greybox\" width=\"1\" x=\"0\" y=\"0\">\n",
       "\t  <feFlood flood-color=\"lightgrey\" flood-opacity=\"1\" result=\"grey\"/>\n",
       "\t  <feComposite in=\"SourceGraphic\" in2=\"grey\" operator=\"atop\"/>\n",
       "\t</filter>\n",
       "</defs>\n",
       "<g color=\"white\" fill=\"none\" stroke=\"currentColor\" stroke-linecap=\"butt\" stroke-linejoin=\"miter\" stroke-width=\"1.00\">\n",
       "</g>\n",
       "<g color=\"black\" fill=\"none\" stroke=\"currentColor\" stroke-linecap=\"butt\" stroke-linejoin=\"miter\" stroke-width=\"1.00\">\n",
       "\t<g shape-rendering=\"crispEdges\" stroke=\"none\">\n",
       "\t\t<polygon fill=\"rgb(255, 255, 255)\" points=\"80.2,362.4 534.9,362.4 534.9,16.8 80.2,16.8 \"/>\n",
       "\t</g>\n",
       "</g>\n",
       "<g color=\"black\" fill=\"none\" stroke=\"rgb(255, 255, 255)\" stroke-linecap=\"butt\" stroke-linejoin=\"miter\" stroke-width=\"0.50\">\n",
       "</g>\n",
       "<g color=\"black\" fill=\"none\" stroke=\"currentColor\" stroke-linecap=\"butt\" stroke-linejoin=\"miter\" stroke-width=\"0.50\">\n",
       "\t<path d=\"M80.2,362.4 L92.7,362.4 M535.0,362.4 L522.5,362.4  \" stroke=\"black\"/>\t<g fill=\"rgb(0,0,0)\" font-family=\"{}\" font-size=\"16.00\" stroke=\"none\" text-anchor=\"end\" transform=\"translate(71.9,368.4)\">\n",
       "\t\t<text><tspan font-family=\"{}\">-5000</tspan></text>\n",
       "\t</g>\n",
       "</g>\n",
       "<g color=\"black\" fill=\"none\" stroke=\"currentColor\" stroke-linecap=\"butt\" stroke-linejoin=\"miter\" stroke-width=\"0.50\">\n",
       "\t<path d=\"M80.2,313.0 L92.7,313.0 M535.0,313.0 L522.5,313.0  \" stroke=\"black\"/>\t<g fill=\"rgb(0,0,0)\" font-family=\"{}\" font-size=\"16.00\" stroke=\"none\" text-anchor=\"end\" transform=\"translate(71.9,319.0)\">\n",
       "\t\t<text><tspan font-family=\"{}\">0</tspan></text>\n",
       "\t</g>\n",
       "</g>\n",
       "<g color=\"black\" fill=\"none\" stroke=\"currentColor\" stroke-linecap=\"butt\" stroke-linejoin=\"miter\" stroke-width=\"0.50\">\n",
       "\t<path d=\"M80.2,263.6 L92.7,263.6 M535.0,263.6 L522.5,263.6  \" stroke=\"black\"/>\t<g fill=\"rgb(0,0,0)\" font-family=\"{}\" font-size=\"16.00\" stroke=\"none\" text-anchor=\"end\" transform=\"translate(71.9,269.6)\">\n",
       "\t\t<text><tspan font-family=\"{}\">5000</tspan></text>\n",
       "\t</g>\n",
       "</g>\n",
       "<g color=\"black\" fill=\"none\" stroke=\"currentColor\" stroke-linecap=\"butt\" stroke-linejoin=\"miter\" stroke-width=\"0.50\">\n",
       "\t<path d=\"M80.2,214.2 L92.7,214.2 M535.0,214.2 L522.5,214.2  \" stroke=\"black\"/>\t<g fill=\"rgb(0,0,0)\" font-family=\"{}\" font-size=\"16.00\" stroke=\"none\" text-anchor=\"end\" transform=\"translate(71.9,220.2)\">\n",
       "\t\t<text><tspan font-family=\"{}\">10000</tspan></text>\n",
       "\t</g>\n",
       "</g>\n",
       "<g color=\"black\" fill=\"none\" stroke=\"currentColor\" stroke-linecap=\"butt\" stroke-linejoin=\"miter\" stroke-width=\"0.50\">\n",
       "\t<path d=\"M80.2,164.9 L92.7,164.9 M535.0,164.9 L522.5,164.9  \" stroke=\"black\"/>\t<g fill=\"rgb(0,0,0)\" font-family=\"{}\" font-size=\"16.00\" stroke=\"none\" text-anchor=\"end\" transform=\"translate(71.9,170.9)\">\n",
       "\t\t<text><tspan font-family=\"{}\">15000</tspan></text>\n",
       "\t</g>\n",
       "</g>\n",
       "<g color=\"black\" fill=\"none\" stroke=\"currentColor\" stroke-linecap=\"butt\" stroke-linejoin=\"miter\" stroke-width=\"0.50\">\n",
       "\t<path d=\"M80.2,115.5 L92.7,115.5 M535.0,115.5 L522.5,115.5  \" stroke=\"black\"/>\t<g fill=\"rgb(0,0,0)\" font-family=\"{}\" font-size=\"16.00\" stroke=\"none\" text-anchor=\"end\" transform=\"translate(71.9,121.5)\">\n",
       "\t\t<text><tspan font-family=\"{}\">20000</tspan></text>\n",
       "\t</g>\n",
       "</g>\n",
       "<g color=\"black\" fill=\"none\" stroke=\"currentColor\" stroke-linecap=\"butt\" stroke-linejoin=\"miter\" stroke-width=\"0.50\">\n",
       "\t<path d=\"M80.2,66.1 L92.7,66.1 M535.0,66.1 L522.5,66.1  \" stroke=\"black\"/>\t<g fill=\"rgb(0,0,0)\" font-family=\"{}\" font-size=\"16.00\" stroke=\"none\" text-anchor=\"end\" transform=\"translate(71.9,72.1)\">\n",
       "\t\t<text><tspan font-family=\"{}\">25000</tspan></text>\n",
       "\t</g>\n",
       "</g>\n",
       "<g color=\"black\" fill=\"none\" stroke=\"currentColor\" stroke-linecap=\"butt\" stroke-linejoin=\"miter\" stroke-width=\"0.50\">\n",
       "\t<path d=\"M80.2,16.7 L92.7,16.7 M535.0,16.7 L522.5,16.7  \" stroke=\"black\"/>\t<g fill=\"rgb(0,0,0)\" font-family=\"{}\" font-size=\"16.00\" stroke=\"none\" text-anchor=\"end\" transform=\"translate(71.9,22.7)\">\n",
       "\t\t<text><tspan font-family=\"{}\">30000</tspan></text>\n",
       "\t</g>\n",
       "</g>\n",
       "<g color=\"black\" fill=\"none\" stroke=\"currentColor\" stroke-linecap=\"butt\" stroke-linejoin=\"miter\" stroke-width=\"0.50\">\n",
       "\t<path d=\"M80.2,362.4 L80.2,349.9 M80.2,16.7 L80.2,29.2  \" stroke=\"black\"/>\t<g fill=\"rgb(0,0,0)\" font-family=\"{}\" font-size=\"16.00\" stroke=\"none\" text-anchor=\"middle\" transform=\"translate(80.2,386.4)\">\n",
       "\t\t<text><tspan font-family=\"{}\">0</tspan></text>\n",
       "\t</g>\n",
       "</g>\n",
       "<g color=\"black\" fill=\"none\" stroke=\"currentColor\" stroke-linecap=\"butt\" stroke-linejoin=\"miter\" stroke-width=\"0.50\">\n",
       "\t<path d=\"M171.2,362.4 L171.2,349.9 M171.2,16.7 L171.2,29.2  \" stroke=\"black\"/>\t<g fill=\"rgb(0,0,0)\" font-family=\"{}\" font-size=\"16.00\" stroke=\"none\" text-anchor=\"middle\" transform=\"translate(171.2,386.4)\">\n",
       "\t\t<text><tspan font-family=\"{}\">1</tspan></text>\n",
       "\t</g>\n",
       "</g>\n",
       "<g color=\"black\" fill=\"none\" stroke=\"currentColor\" stroke-linecap=\"butt\" stroke-linejoin=\"miter\" stroke-width=\"0.50\">\n",
       "\t<path d=\"M262.1,362.4 L262.1,349.9 M262.1,16.7 L262.1,29.2  \" stroke=\"black\"/>\t<g fill=\"rgb(0,0,0)\" font-family=\"{}\" font-size=\"16.00\" stroke=\"none\" text-anchor=\"middle\" transform=\"translate(262.1,386.4)\">\n",
       "\t\t<text><tspan font-family=\"{}\">2</tspan></text>\n",
       "\t</g>\n",
       "</g>\n",
       "<g color=\"black\" fill=\"none\" stroke=\"currentColor\" stroke-linecap=\"butt\" stroke-linejoin=\"miter\" stroke-width=\"0.50\">\n",
       "\t<path d=\"M353.1,362.4 L353.1,349.9 M353.1,16.7 L353.1,29.2  \" stroke=\"black\"/>\t<g fill=\"rgb(0,0,0)\" font-family=\"{}\" font-size=\"16.00\" stroke=\"none\" text-anchor=\"middle\" transform=\"translate(353.1,386.4)\">\n",
       "\t\t<text><tspan font-family=\"{}\">3</tspan></text>\n",
       "\t</g>\n",
       "</g>\n",
       "<g color=\"black\" fill=\"none\" stroke=\"currentColor\" stroke-linecap=\"butt\" stroke-linejoin=\"miter\" stroke-width=\"0.50\">\n",
       "\t<path d=\"M444.0,362.4 L444.0,349.9 M444.0,16.7 L444.0,29.2  \" stroke=\"black\"/>\t<g fill=\"rgb(0,0,0)\" font-family=\"{}\" font-size=\"16.00\" stroke=\"none\" text-anchor=\"middle\" transform=\"translate(444.0,386.4)\">\n",
       "\t\t<text><tspan font-family=\"{}\">4</tspan></text>\n",
       "\t</g>\n",
       "</g>\n",
       "<g color=\"black\" fill=\"none\" stroke=\"currentColor\" stroke-linecap=\"butt\" stroke-linejoin=\"miter\" stroke-width=\"0.50\">\n",
       "\t<path d=\"M535.0,362.4 L535.0,349.9 M535.0,16.7 L535.0,29.2  \" stroke=\"black\"/>\t<g fill=\"rgb(0,0,0)\" font-family=\"{}\" font-size=\"16.00\" stroke=\"none\" text-anchor=\"middle\" transform=\"translate(535.0,386.4)\">\n",
       "\t\t<text><tspan font-family=\"{}\">5</tspan></text>\n",
       "\t</g>\n",
       "</g>\n",
       "<g color=\"black\" fill=\"none\" stroke=\"currentColor\" stroke-linecap=\"butt\" stroke-linejoin=\"miter\" stroke-width=\"0.50\">\n",
       "</g>\n",
       "<g color=\"black\" fill=\"none\" stroke=\"currentColor\" stroke-linecap=\"butt\" stroke-linejoin=\"miter\" stroke-width=\"0.50\">\n",
       "\t<path d=\"M80.2,16.7 L80.2,362.4 L535.0,362.4 L535.0,16.7 L80.2,16.7 Z  \" stroke=\"black\"/></g>\n",
       "<g color=\"black\" fill=\"none\" stroke=\"currentColor\" stroke-linecap=\"butt\" stroke-linejoin=\"miter\" stroke-width=\"0.50\">\n",
       "\t<g fill=\"rgb(0,0,0)\" font-family=\"{}\" font-size=\"16.00\" stroke=\"none\" text-anchor=\"middle\" transform=\"translate(19.1,189.6) rotate(-90)\">\n",
       "\t\t<text><tspan font-family=\"{}\">principle amount left ($)</tspan></text>\n",
       "\t</g>\n",
       "</g>\n",
       "<g color=\"black\" fill=\"none\" stroke=\"currentColor\" stroke-linecap=\"butt\" stroke-linejoin=\"miter\" stroke-width=\"0.50\">\n",
       "\t<g fill=\"rgb(0,0,0)\" font-family=\"{}\" font-size=\"16.00\" stroke=\"none\" text-anchor=\"middle\" transform=\"translate(307.6,413.4)\">\n",
       "\t\t<text><tspan font-family=\"{}\">time (years)</tspan></text>\n",
       "\t</g>\n",
       "</g>\n",
       "<g color=\"black\" fill=\"none\" stroke=\"currentColor\" stroke-linecap=\"butt\" stroke-linejoin=\"miter\" stroke-width=\"0.50\">\n",
       "</g>\n",
       "\t<g id=\"gnuplot_plot_1a\"><title>gnuplot_plot_1a</title>\n",
       "<g color=\"white\" fill=\"none\" stroke=\"currentColor\" stroke-linecap=\"butt\" stroke-linejoin=\"miter\" stroke-width=\"3.00\">\n",
       "</g>\n",
       "<g color=\"black\" fill=\"none\" stroke=\"currentColor\" stroke-linecap=\"butt\" stroke-linejoin=\"miter\" stroke-width=\"3.00\">\n",
       "\t<path d=\"M87.8,21.1 L95.4,25.4 L102.9,29.8 L110.5,34.2 L118.1,38.7 L125.7,43.1 L133.3,47.6 L140.8,52.1   L148.4,56.6 L156.0,61.1 L163.6,65.6 L171.2,70.2 L178.7,74.8 L186.3,79.4 L193.9,84.0 L201.5,88.6   L209.1,93.3 L216.6,98.0 L224.2,102.7 L231.8,107.4 L239.4,112.1 L247.0,116.9 L254.5,121.6 L262.1,126.4   L269.7,131.3 L277.3,136.1 L284.9,140.9 L292.4,145.8 L300.0,150.7 L307.6,155.6 L315.2,160.6 L322.8,165.5   L330.3,170.5 L337.9,175.5 L345.5,180.5 L353.1,185.6 L360.7,190.6 L368.2,195.7 L375.8,200.8 L383.4,205.9   L391.0,211.1 L398.6,216.2 L406.1,221.4 L413.7,226.6 L421.3,231.9 L428.9,237.1 L436.5,242.4 L444.0,247.7   L451.6,253.0 L459.2,258.4 L466.8,263.7 L474.4,269.1 L481.9,274.5 L489.5,279.9 L497.1,285.4 L504.7,290.9   L512.3,296.4 L519.8,301.9 L527.4,307.4 L535.0,313.0  \" stroke=\"rgb(  0,   0, 255)\"/></g>\n",
       "\t</g>\n",
       "<g color=\"white\" fill=\"none\" stroke=\"rgb(  0,   0, 255)\" stroke-linecap=\"butt\" stroke-linejoin=\"miter\" stroke-width=\"2.00\">\n",
       "</g>\n",
       "<g color=\"black\" fill=\"none\" stroke=\"currentColor\" stroke-linecap=\"butt\" stroke-linejoin=\"miter\" stroke-width=\"2.00\">\n",
       "</g>\n",
       "<g color=\"black\" fill=\"none\" stroke=\"black\" stroke-linecap=\"butt\" stroke-linejoin=\"miter\" stroke-width=\"0.50\">\n",
       "</g>\n",
       "<g color=\"black\" fill=\"none\" stroke=\"currentColor\" stroke-linecap=\"butt\" stroke-linejoin=\"miter\" stroke-width=\"0.50\">\n",
       "</g>\n",
       "</g>\n",
       "</svg>"
      ],
      "text/plain": [
       "<IPython.core.display.SVG object>"
      ]
     },
     "metadata": {},
     "output_type": "display_data"
    }
   ],
   "source": [
    "A=loan_payments(563.79,30000,0.05,5,1);\n",
    "fprintf(\"%1.10f\\n\",A)"
   ]
  },
  {
   "cell_type": "markdown",
   "metadata": {
    "slideshow": {
     "slide_type": "slide"
    }
   },
   "source": [
    "## Matlab's function\n",
    "\n",
    "Matlab and Octave combine bracketing and open methods in the `fzero` function. "
   ]
  },
  {
   "cell_type": "code",
   "execution_count": 15,
   "metadata": {
    "collapsed": false,
    "slideshow": {
     "slide_type": "subslide"
    }
   },
   "outputs": [
    {
     "name": "stdout",
     "output_type": "stream",
     "text": [
      "P =  563.79\n",
      "563.787893099\n"
     ]
    }
   ],
   "source": [
    "P=fzero(@(P) loan_payments(P,30000,0.05,5,0),300)\n",
    "fprintf('%1.9f',P)"
   ]
  },
  {
   "cell_type": "code",
   "execution_count": 36,
   "metadata": {
    "collapsed": false,
    "slideshow": {
     "slide_type": "subslide"
    }
   },
   "outputs": [
    {
     "name": "stdout",
     "output_type": "stream",
     "text": [
      "monthly_pay =  563.79\n",
      "563.787893\n"
     ]
    }
   ],
   "source": [
    "monthly_pay=fzero(@(A) loan_payments(A,30000,0.05,5,0),500)\n",
    "fprintf('%1.6f\\n',monthly_pay)"
   ]
  },
  {
   "cell_type": "markdown",
   "metadata": {
    "slideshow": {
     "slide_type": "slide"
    }
   },
   "source": [
    "## Amortization\n",
    "\n",
    "Amortization calculation makes the same calculation for the monthly payment amount, A, paying off the principle amount, P, over n pay periods with monthly interest rate, r. \n",
    "\n",
    "$A=P\\frac{r(1+r)^{n}}{1+r)^{n-1}}$"
   ]
  },
  {
   "cell_type": "code",
   "execution_count": 19,
   "metadata": {
    "collapsed": false,
    "slideshow": {
     "slide_type": "fragment"
    }
   },
   "outputs": [
    {
     "name": "stdout",
     "output_type": "stream",
     "text": [
      "Amt =  566.14\r\n"
     ]
    }
   ],
   "source": [
    "% Amortization calculation\n",
    "A  = @(P,r,n) P*(r*(1+r)^n)./((1+r)^n-1);\n",
    "Amt=A(30000,0.05/12,5*12)"
   ]
  }
 ],
 "metadata": {
  "celltoolbar": "Slideshow",
  "kernelspec": {
   "display_name": "Octave",
   "language": "octave",
   "name": "octave"
  },
  "language_info": {
   "file_extension": ".m",
   "help_links": [
    {
     "text": "MetaKernel Magics",
     "url": "https://github.com/calysto/metakernel/blob/master/metakernel/magics/README.md"
    }
   ],
   "mimetype": "text/x-octave",
   "name": "octave",
   "version": "0.19.14"
  }
 },
 "nbformat": 4,
 "nbformat_minor": 2
}
